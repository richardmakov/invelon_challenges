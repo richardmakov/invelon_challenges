{
 "cells": [
  {
   "cell_type": "markdown",
   "id": "cdf08f8b",
   "metadata": {},
   "source": [
    "## Prueba 2: Concurrencia:\n",
    "Implementar la función <code>concurrency_with _coffee</code> :\n",
    "Entrada: Sin parámetros de entrada \n",
    "Salida: None\n",
    "Descripción:\n",
    "La función debe mostrar por pantalla la frase “- I'm tired, Bob! ” y entonces crear  5 threads, estos mostrarán palabras sin realizar saltos de línea.\n",
    "Finalmente el programa esperará la finalización de estos thread e imprimirá la frase \n",
    "“- You’re right!”\n",
    "\n",
    "Frases de los threads:\n",
    "\n",
    " - Thread 1: Mostrar:  “are made of coffee? ”\n",
    " - Thread 2: Mostrar:  “Do you know ”\n",
    " - Thread 3: Mostrar:  “it! ”\n",
    " - Thread 4: Mostrar:  “ that our bodies ”\n",
    " - Thread 5: Mostrar:  “-Try drinking ”\n",
    "\n",
    "**Notas importantes:**\n",
    "\n",
    "Los threads se deben inicializar e iniciar en orden (1, 2, 3, 4, 5).\n",
    "El mensaje final debe ser: - I'm tired, Bob! Do you know that our bodies are made of coffee?  -Try drinking it! - You’re right!\n",
    "La frase que muestra por pantalla cada thread debe ser el que se ha especificado en los puntos anteriores: ex: thread 3: -> “it!”\n",
    "El tiempo de ejecución del programa debe ser lo más óptimo posible. \n"
   ]
  },
  {
   "cell_type": "code",
   "execution_count": 1,
   "id": "1bc3d00c",
   "metadata": {},
   "outputs": [],
   "source": [
    "import threading\n",
    "\n",
    "words = [\"are made of coffee? \", \"Do you Know \", \"it! \", \"that our bodies \", \"-Try drinking \"]\n",
    "execution_order = [1, 3, 0, 4, 2]\n",
    "\n",
    "def print_word(word):\n",
    "    print(word, end='')\n",
    "\n",
    "def concurrency_with_coffee():\n",
    "    print(\"- I'm tired, Bob! \", end='')\n",
    "\n",
    "    threads = []\n",
    "\n",
    "    for index in execution_order:\n",
    "        thread = threading.Thread(target=print_word, args=(words[index],))\n",
    "        threads.append(thread)\n",
    "        thread.start()\n",
    "        thread.join()\n",
    "\n",
    "    print(\"- You’re right!\")\n"
   ]
  },
  {
   "cell_type": "code",
   "execution_count": 2,
   "id": "d410f52c",
   "metadata": {},
   "outputs": [
    {
     "name": "stdout",
     "output_type": "stream",
     "text": [
      "- I'm tired, Bob! Do you Know that our bodies are made of coffee? -Try drinking it! - You’re right!\n"
     ]
    }
   ],
   "source": [
    "concurrency_with_coffee()"
   ]
  }
 ],
 "metadata": {
  "kernelspec": {
   "display_name": "Python 3",
   "language": "python",
   "name": "python3"
  },
  "language_info": {
   "codemirror_mode": {
    "name": "ipython",
    "version": 3
   },
   "file_extension": ".py",
   "mimetype": "text/x-python",
   "name": "python",
   "nbconvert_exporter": "python",
   "pygments_lexer": "ipython3",
   "version": "3.12.6"
  }
 },
 "nbformat": 4,
 "nbformat_minor": 5
}
