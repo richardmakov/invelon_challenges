{
 "cells": [
  {
   "cell_type": "code",
   "execution_count": 1,
   "id": "1bc3d00c",
   "metadata": {},
   "outputs": [],
   "source": [
    "import threading\n",
    "\n",
    "words = [\"are made of coffee? \", \"Do you Know \", \"it! \", \"that our bodies \", \"-Try drinking \"]\n",
    "execution_order = [1, 3, 0, 4, 2]\n",
    "\n",
    "def print_word(word):\n",
    "    print(word, end='')\n",
    "\n",
    "def concurrency_with_coffee():\n",
    "    print(\"- I'm tired, Bob! \", end='')\n",
    "\n",
    "    threads = []\n",
    "\n",
    "    for index in execution_order:\n",
    "        thread = threading.Thread(target=print_word, args=(words[index],))\n",
    "        threads.append(thread)\n",
    "        thread.start()\n",
    "        thread.join()\n",
    "\n",
    "    print(\"- You’re right!\")\n"
   ]
  },
  {
   "cell_type": "code",
   "execution_count": 2,
   "id": "d410f52c",
   "metadata": {},
   "outputs": [
    {
     "name": "stdout",
     "output_type": "stream",
     "text": [
      "- I'm tired, Bob! Do you Know that our bodies are made of coffee? -Try drinking it! - You’re right!\n"
     ]
    }
   ],
   "source": [
    "concurrency_with_coffee()"
   ]
  }
 ],
 "metadata": {
  "kernelspec": {
   "display_name": "Python 3",
   "language": "python",
   "name": "python3"
  },
  "language_info": {
   "codemirror_mode": {
    "name": "ipython",
    "version": 3
   },
   "file_extension": ".py",
   "mimetype": "text/x-python",
   "name": "python",
   "nbconvert_exporter": "python",
   "pygments_lexer": "ipython3",
   "version": "3.12.6"
  }
 },
 "nbformat": 4,
 "nbformat_minor": 5
}
