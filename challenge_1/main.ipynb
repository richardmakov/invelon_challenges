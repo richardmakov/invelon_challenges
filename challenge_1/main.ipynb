{
    "cells": [
        {
            "cell_type": "markdown",
            "id": "74aed3fa",
            "metadata": {},
            "source": [
                "## Prueba 1: Recolección y tratamiento:\n",
                "\n",
                "Implementar la función <code>get_api_data</code>:\n",
                "- **Entrada:** String #Una url \n",
                "- **Salida:** <code>List<Tuple<key, value>></code>\n",
                "- **Definición:** La función debe recoger el json de tipo <code><key, value></code> de la url pasada como entrada, y devolverlo como una lista de tuplas <code><key,value></code>.\n",
                "- **URL test:**\n",
                "  - [TEST_URL_1](https://invelonjobinterview.herokuapp.com/api/test1)\n",
                "  - [TEST_URL_2](https://invelonjobinterview.herokuapp.com/api/test2)\n"
            ]
        },
        {
            "cell_type": "code",
            "execution_count": 153,
            "id": "cbbe298b",
            "metadata": {},
            "outputs": [],
            "source": [
                "import requests\n",
                "\n",
                "def get_api_data(url):\n",
                "    response = requests.get(url)\n",
                "    data = response.json()\n",
                "    result = []\n",
                "\n",
                "    key, value = next(iter(data.items()))\n",
                "    if isinstance(value, list):\n",
                "        return (key, value) \n",
                "\n",
                "    for key, value in data.items():\n",
                "        result.append([key, value])\n",
                "\n",
                "    return tuple(result)\n"
            ]
        },
        {
            "cell_type": "code",
            "execution_count": 154,
            "id": "26ca3cf3",
            "metadata": {},
            "outputs": [
                {
                    "data": {
                        "text/plain": [
                            "(['name', 'Raul'],\n",
                            " ['email', 'test@test.com'],\n",
                            " ['preferences', [1, 3, 7]],\n",
                            " ['affiliate', True])"
                        ]
                    },
                    "execution_count": 154,
                    "metadata": {},
                    "output_type": "execute_result"
                }
            ],
            "source": [
                "get_api_data(\"https://invelonjobinterview.herokuapp.com/api/test1\")\n"
            ]
        },
        {
            "cell_type": "code",
            "execution_count": 155,
            "id": "2291e41b",
            "metadata": {},
            "outputs": [
                {
                    "data": {
                        "text/plain": [
                            "('users',\n",
                            " [{'name': 'Raul',\n",
                            "   'email': 'test@test.com',\n",
                            "   'preferences': [1, 3, 7],\n",
                            "   'affiliate': True},\n",
                            "  {'name': 'Marino',\n",
                            "   'email': 'test2@test.com',\n",
                            "   'preferences': [2, 5],\n",
                            "   'affiliate': False}])"
                        ]
                    },
                    "execution_count": 155,
                    "metadata": {},
                    "output_type": "execute_result"
                }
            ],
            "source": [
                "get_api_data(\"https://invelonjobinterview.herokuapp.com/api/test2\")"
            ]
        }
    ],
    "metadata": {
        "kernelspec": {
            "display_name": "Python 3",
            "language": "python",
            "name": "python3"
        },
        "language_info": {
            "codemirror_mode": {
                "name": "ipython",
                "version": 3
            },
            "file_extension": ".py",
            "mimetype": "text/x-python",
            "name": "python",
            "nbconvert_exporter": "python",
            "pygments_lexer": "ipython3",
            "version": "3.12.6"
        }
    },
    "nbformat": 4,
    "nbformat_minor": 5
}
